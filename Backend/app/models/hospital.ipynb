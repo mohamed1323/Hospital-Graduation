{
 "cells": [
  {
   "cell_type": "markdown",
   "id": "a1f52cf8-432c-4f6d-abcf-41068050215f",
   "metadata": {},
   "source": [
    "### \n",
    "Import necessary libraries\n",
    "import pandas as pd\n",
    "import numpy as np\n",
    "from sklearn.model_selection import train_test_split, cross_val_score\n",
    "from sklearn.preprocessing import LabelEncoder, StandardScaler\n",
    "from sklearn.metrics import accuracy_score, classification_report, roc_auc_score\n",
    "from sklearn.utils import resample\n",
    "from sklearn.linear_model import LogisticRegression\n",
    "from sklearn.ensemble import RandomForestClassifier\n",
    "import xgboost as xgb\n",
    "import lightgbm as lgb\n",
    "from tensorflow import keras\n",
    "\n",
    "# Load dataset\n",
    "file_path = \"Hospital Readmission Prediction.csv\"  # Change path if necessary\n",
    "df = pd.read_csv(file_path)\n",
    "df"
   ]
  },
  {
   "cell_type": "markdown",
   "id": "9aef656f-64f7-4ba7-b82e-7594c8dd3a36",
   "metadata": {},
   "source": [
    "## 1. Show basic info\n",
    "print(\"🔍 Dataset Overview:\")\n",
    "print(df.info())  # Dataset structure\n"
   ]
  },
  {
   "cell_type": "code",
   "execution_count": 4,
   "id": "32b022fc-9c8e-4ba8-bd1b-88b798591df8",
   "metadata": {},
   "outputs": [
    {
     "data": {
      "text/html": [
       "<div>\n",
       "<style scoped>\n",
       "    .dataframe tbody tr th:only-of-type {\n",
       "        vertical-align: middle;\n",
       "    }\n",
       "\n",
       "    .dataframe tbody tr th {\n",
       "        vertical-align: top;\n",
       "    }\n",
       "\n",
       "    .dataframe thead th {\n",
       "        text-align: right;\n",
       "    }\n",
       "</style>\n",
       "<table border=\"1\" class=\"dataframe\">\n",
       "  <thead>\n",
       "    <tr style=\"text-align: right;\">\n",
       "      <th></th>\n",
       "      <th>age</th>\n",
       "      <th>gender</th>\n",
       "      <th>primary_diagnosis</th>\n",
       "      <th>num_procedures</th>\n",
       "      <th>days_in_hospital</th>\n",
       "      <th>comorbidity_score</th>\n",
       "      <th>discharge_to</th>\n",
       "      <th>readmitted</th>\n",
       "    </tr>\n",
       "  </thead>\n",
       "  <tbody>\n",
       "    <tr>\n",
       "      <th>0</th>\n",
       "      <td>69</td>\n",
       "      <td>Male</td>\n",
       "      <td>Heart Disease</td>\n",
       "      <td>1</td>\n",
       "      <td>2</td>\n",
       "      <td>1</td>\n",
       "      <td>Home Health Care</td>\n",
       "      <td>0</td>\n",
       "    </tr>\n",
       "    <tr>\n",
       "      <th>1</th>\n",
       "      <td>32</td>\n",
       "      <td>Female</td>\n",
       "      <td>COPD</td>\n",
       "      <td>2</td>\n",
       "      <td>13</td>\n",
       "      <td>2</td>\n",
       "      <td>Rehabilitation Facility</td>\n",
       "      <td>0</td>\n",
       "    </tr>\n",
       "    <tr>\n",
       "      <th>2</th>\n",
       "      <td>89</td>\n",
       "      <td>Male</td>\n",
       "      <td>Diabetes</td>\n",
       "      <td>1</td>\n",
       "      <td>7</td>\n",
       "      <td>1</td>\n",
       "      <td>Home</td>\n",
       "      <td>0</td>\n",
       "    </tr>\n",
       "    <tr>\n",
       "      <th>3</th>\n",
       "      <td>78</td>\n",
       "      <td>Male</td>\n",
       "      <td>COPD</td>\n",
       "      <td>9</td>\n",
       "      <td>2</td>\n",
       "      <td>2</td>\n",
       "      <td>Skilled Nursing Facility</td>\n",
       "      <td>0</td>\n",
       "    </tr>\n",
       "    <tr>\n",
       "      <th>4</th>\n",
       "      <td>38</td>\n",
       "      <td>Male</td>\n",
       "      <td>Diabetes</td>\n",
       "      <td>6</td>\n",
       "      <td>4</td>\n",
       "      <td>4</td>\n",
       "      <td>Rehabilitation Facility</td>\n",
       "      <td>0</td>\n",
       "    </tr>\n",
       "  </tbody>\n",
       "</table>\n",
       "</div>"
      ],
      "text/plain": [
       "   age  gender primary_diagnosis  num_procedures  days_in_hospital  \\\n",
       "0   69    Male     Heart Disease               1                 2   \n",
       "1   32  Female              COPD               2                13   \n",
       "2   89    Male          Diabetes               1                 7   \n",
       "3   78    Male              COPD               9                 2   \n",
       "4   38    Male          Diabetes               6                 4   \n",
       "\n",
       "   comorbidity_score              discharge_to  readmitted  \n",
       "0                  1          Home Health Care           0  \n",
       "1                  2   Rehabilitation Facility           0  \n",
       "2                  1                      Home           0  \n",
       "3                  2  Skilled Nursing Facility           0  \n",
       "4                  4   Rehabilitation Facility           0  "
      ]
     },
     "execution_count": 4,
     "metadata": {},
     "output_type": "execute_result"
    }
   ],
   "source": [
    "# print(\"\\n📝 First 5 rows:\")\n",
    "df.head()  # First 5 rows\n"
   ]
  },
  {
   "cell_type": "code",
   "execution_count": 19,
   "id": "3bc25f1c-a3ca-49c6-a3b4-cb07d3ec278a",
   "metadata": {},
   "outputs": [
    {
     "name": "stdout",
     "output_type": "stream",
     "text": [
      "\n",
      "📊 Summary statistics:\n",
      "               age  num_procedures  days_in_hospital  comorbidity_score  \\\n",
      "count  5000.000000      5000.00000       5000.000000        5000.000000   \n",
      "mean     53.299000         4.46100          7.396600           2.068600   \n",
      "std      20.646851         2.88606          4.025587           1.422357   \n",
      "min      18.000000         0.00000          1.000000           0.000000   \n",
      "25%      36.000000         2.00000          4.000000           1.000000   \n",
      "50%      53.000000         4.00000          7.000000           2.000000   \n",
      "75%      71.000000         7.00000         11.000000           3.000000   \n",
      "max      89.000000         9.00000         14.000000           4.000000   \n",
      "\n",
      "        readmitted  \n",
      "count  5000.000000  \n",
      "mean      0.188000  \n",
      "std       0.390751  \n",
      "min       0.000000  \n",
      "25%       0.000000  \n",
      "50%       0.000000  \n",
      "75%       0.000000  \n",
      "max       1.000000  \n"
     ]
    }
   ],
   "source": [
    "print(\"\\n📊 Summary statistics:\")\n",
    "print(df.describe())  # Summary statistics\n",
    "\n"
   ]
  },
  {
   "cell_type": "code",
   "execution_count": 21,
   "id": "e72d9dca-cab1-4d73-a1b8-1ae72da83ae1",
   "metadata": {},
   "outputs": [
    {
     "name": "stdout",
     "output_type": "stream",
     "text": [
      "\n",
      "❗ Duplicate Rows: 4\n"
     ]
    }
   ],
   "source": [
    "# 2. Handle duplicates\n",
    "print(f\"\\n❗ Duplicate Rows: {df.duplicated().sum()}\")\n",
    "df.drop_duplicates(inplace=True)  # Remove duplicates\n"
   ]
  },
  {
   "cell_type": "code",
   "execution_count": 23,
   "id": "3197509b-69fc-48ee-8a0d-30f74ef5e65d",
   "metadata": {},
   "outputs": [
    {
     "name": "stdout",
     "output_type": "stream",
     "text": [
      "\n",
      "🛑 Missing Values per Column:\n",
      " Series([], dtype: int64)\n"
     ]
    }
   ],
   "source": [
    "\n",
    "# 3. Handle missing values\n",
    "missing_values = df.isnull().sum()\n",
    "print(\"\\n🛑 Missing Values per Column:\\n\", missing_values[missing_values > 0])\n",
    "# Drop rows with missing target variable\n",
    "df.dropna(subset=['readmitted'], inplace=True)"
   ]
  },
  {
   "cell_type": "code",
   "execution_count": 25,
   "id": "415a419f-a29f-4d34-abd1-cea15c29eb6a",
   "metadata": {},
   "outputs": [
    {
     "name": "stderr",
     "output_type": "stream",
     "text": [
      "C:\\Users\\mohaa\\AppData\\Local\\Temp\\ipykernel_7020\\3049145002.py:11: FutureWarning: \n",
      "\n",
      "Passing `palette` without assigning `hue` is deprecated and will be removed in v0.14.0. Assign the `x` variable to `hue` and set `legend=False` for the same effect.\n",
      "\n",
      "  sns.countplot(data=df, x='gender', palette='coolwarm')\n"
     ]
    },
    {
     "data": {
      "image/png": "[encoded data removed]",
      "text/plain": [
       "<Figure size 600x400 with 1 Axes>"
      ]
     },
     "metadata": {},
     "output_type": "display_data"
    }
   ],
   "source": [
    "import matplotlib.pyplot as plt\n",
    "import pandas as pd\n",
    "import seaborn as sns\n",
    "import matplotlib.pyplot as plt\n",
    "# Step 2: Gender Distribution Visualization\n",
    "# Set plot style\n",
    "sns.set_style(\"whitegrid\")\n",
    "\n",
    "# 1. Gender Distribution\n",
    "plt.figure(figsize=(6,4))\n",
    "sns.countplot(data=df, x='gender', palette='coolwarm')\n",
    "plt.title(\"Gender Distribution\")\n",
    "plt.show()\n",
    "\n"
   ]
  },
  {
   "cell_type": "code",
   "execution_count": 27,
   "id": "c704c1a2-bebe-4414-ab46-eb85827804e6",
   "metadata": {},
   "outputs": [
    {
     "name": "stderr",
     "output_type": "stream",
     "text": [
      "C:\\Users\\mohaa\\AppData\\Local\\Temp\\ipykernel_7020\\836614639.py:3: FutureWarning: \n",
      "\n",
      "Passing `palette` without assigning `hue` is deprecated and will be removed in v0.14.0. Assign the `x` variable to `hue` and set `legend=False` for the same effect.\n",
      "\n",
      "  sns.countplot(data=df, x='readmitted', palette='viridis')\n"
     ]
    },
    {
     "data": {
      "image/png": "[encoded data removed]",
      "text/plain": [
       "<Figure size 600x400 with 1 Axes>"
      ]
     },
     "metadata": {},
     "output_type": "display_data"
    }
   ],
   "source": [
    "# 2. Readmission Rate\n",
    "plt.figure(figsize=(6,4))\n",
    "sns.countplot(data=df, x='readmitted', palette='viridis')\n",
    "plt.title(\"Readmission (0 = No, 1 = Yes)\")\n",
    "plt.show()\n",
    "\n"
   ]
  },
  {
   "cell_type": "code",
   "execution_count": 29,
   "id": "8073b10b-7cb2-48b9-bb2f-be8a879b96f2",
   "metadata": {},
   "outputs": [
    {
     "name": "stderr",
     "output_type": "stream",
     "text": [
      "C:\\Users\\mohaa\\AppData\\Local\\Temp\\ipykernel_7020\\424939983.py:3: FutureWarning: \n",
      "\n",
      "Passing `palette` without assigning `hue` is deprecated and will be removed in v0.14.0. Assign the `y` variable to `hue` and set `legend=False` for the same effect.\n",
      "\n",
      "  sns.countplot(data=df, y='primary_diagnosis', order=df['primary_diagnosis'].value_counts().index, palette='pastel')\n"
     ]
    },
    {
     "data": {
      "image/png": "[encoded data removed]",
      "text/plain": [
       "<Figure size 800x400 with 1 Axes>"
      ]
     },
     "metadata": {},
     "output_type": "display_data"
    }
   ],
   "source": [
    "# 3. Primary Diagnosis\n",
    "plt.figure(figsize=(8,4))\n",
    "sns.countplot(data=df, y='primary_diagnosis', order=df['primary_diagnosis'].value_counts().index, palette='pastel')\n",
    "plt.title(\"Primary Diagnosis Count\")\n",
    "plt.show()\n",
    "\n"
   ]
  },
  {
   "cell_type": "code",
   "execution_count": null,
   "id": "a843b307-d72e-4f79-b320-3e541d448871",
   "metadata": {},
   "outputs": [],
   "source": []
  },
  {
   "cell_type": "code",
   "execution_count": 80,
   "id": "6c097c59-9a35-4d47-94f8-636caf89b6d4",
   "metadata": {},
   "outputs": [
    {
     "data": {
      "text/html": [
       "<div>\n",
       "<style scoped>\n",
       "    .dataframe tbody tr th:only-of-type {\n",
       "        vertical-align: middle;\n",
       "    }\n",
       "\n",
       "    .dataframe tbody tr th {\n",
       "        vertical-align: top;\n",
       "    }\n",
       "\n",
       "    .dataframe thead th {\n",
       "        text-align: right;\n",
       "    }\n",
       "</style>\n",
       "<table border=\"1\" class=\"dataframe\">\n",
       "  <thead>\n",
       "    <tr style=\"text-align: right;\">\n",
       "      <th></th>\n",
       "      <th>age</th>\n",
       "      <th>gender</th>\n",
       "      <th>primary_diagnosis</th>\n",
       "      <th>num_procedures</th>\n",
       "      <th>days_in_hospital</th>\n",
       "      <th>comorbidity_score</th>\n",
       "      <th>discharge_to</th>\n",
       "      <th>readmitted</th>\n",
       "    </tr>\n",
       "  </thead>\n",
       "  <tbody>\n",
       "    <tr>\n",
       "      <th>0</th>\n",
       "      <td>51</td>\n",
       "      <td>1</td>\n",
       "      <td>2</td>\n",
       "      <td>1</td>\n",
       "      <td>2</td>\n",
       "      <td>1</td>\n",
       "      <td>1</td>\n",
       "      <td>0</td>\n",
       "    </tr>\n",
       "    <tr>\n",
       "      <th>1</th>\n",
       "      <td>14</td>\n",
       "      <td>0</td>\n",
       "      <td>0</td>\n",
       "      <td>2</td>\n",
       "      <td>13</td>\n",
       "      <td>2</td>\n",
       "      <td>2</td>\n",
       "      <td>0</td>\n",
       "    </tr>\n",
       "    <tr>\n",
       "      <th>2</th>\n",
       "      <td>71</td>\n",
       "      <td>1</td>\n",
       "      <td>1</td>\n",
       "      <td>1</td>\n",
       "      <td>7</td>\n",
       "      <td>1</td>\n",
       "      <td>0</td>\n",
       "      <td>0</td>\n",
       "    </tr>\n",
       "    <tr>\n",
       "      <th>3</th>\n",
       "      <td>60</td>\n",
       "      <td>1</td>\n",
       "      <td>0</td>\n",
       "      <td>9</td>\n",
       "      <td>2</td>\n",
       "      <td>2</td>\n",
       "      <td>3</td>\n",
       "      <td>0</td>\n",
       "    </tr>\n",
       "    <tr>\n",
       "      <th>4</th>\n",
       "      <td>20</td>\n",
       "      <td>1</td>\n",
       "      <td>1</td>\n",
       "      <td>6</td>\n",
       "      <td>4</td>\n",
       "      <td>4</td>\n",
       "      <td>2</td>\n",
       "      <td>0</td>\n",
       "    </tr>\n",
       "  </tbody>\n",
       "</table>\n",
       "</div>"
      ],
      "text/plain": [
       "   age  gender  primary_diagnosis  num_procedures  days_in_hospital  \\\n",
       "0   51       1                  2               1                 2   \n",
       "1   14       0                  0               2                13   \n",
       "2   71       1                  1               1                 7   \n",
       "3   60       1                  0               9                 2   \n",
       "4   20       1                  1               6                 4   \n",
       "\n",
       "   comorbidity_score  discharge_to  readmitted  \n",
       "0                  1             1           0  \n",
       "1                  2             2           0  \n",
       "2                  1             0           0  \n",
       "3                  2             3           0  \n",
       "4                  4             2           0  "
      ]
     },
     "execution_count": 80,
     "metadata": {},
     "output_type": "execute_result"
    }
   ],
   "source": [
    "from sklearn.preprocessing import LabelEncoder\n",
    "\n",
    "# Initialize LabelEncoder\n",
    "encoder = LabelEncoder()\n",
    "\n",
    "# Convert categorical columns\n",
    "categorical_columns = ['gender', 'primary_diagnosis', 'discharge_to', 'readmitted']\n",
    "\n",
    "for col in categorical_columns:\n",
    "    df[col] = encoder.fit_transform(df[col])\n",
    "\n",
    "# Show updated dataset\n",
    "df.head()\n"
   ]
  },
  {
   "cell_type": "code",
   "execution_count": 33,
   "id": "cfa0634e-c8aa-4821-8faa-1e1654c96a95",
   "metadata": {},
   "outputs": [
    {
     "data": {
      "image/png": "[encoded data removed]",
      "text/plain": [
       "<Figure size 600x400 with 1 Axes>"
      ]
     },
     "metadata": {},
     "output_type": "display_data"
    }
   ],
   "source": [
    "# 4. Days in Hospital Distribution\n",
    "plt.figure(figsize=(6,4))\n",
    "sns.histplot(df['days_in_hospital'], bins=15, kde=True, color='blue')\n",
    "plt.title(\"Distribution of Days in Hospital\")\n",
    "plt.show()\n"
   ]
  },
  {
   "cell_type": "code",
   "execution_count": 82,
   "id": "fe9b28c9-4e90-4488-8cf8-b54f2f1e2204",
   "metadata": {},
   "outputs": [],
   "source": [
    "\n",
    "# Encode categorical variables\n",
    "label_encoders = {}\n",
    "categorical_columns = ['gender', 'primary_diagnosis', 'discharge_to']\n",
    "df_encoded = df.copy()\n",
    "\n",
    "for col in categorical_columns:\n",
    "    le = LabelEncoder()\n",
    "    df_encoded[col] = le.fit_transform(df_encoded[col])\n",
    "    label_encoders[col] = le\n",
    "\n"
   ]
  },
  {
   "cell_type": "code",
   "execution_count": 84,
   "id": "c4ba0b2e-c3d5-4bb9-8884-5901fa68a539",
   "metadata": {},
   "outputs": [
    {
     "data": {
      "text/html": [
       "<div>\n",
       "<style scoped>\n",
       "    .dataframe tbody tr th:only-of-type {\n",
       "        vertical-align: middle;\n",
       "    }\n",
       "\n",
       "    .dataframe tbody tr th {\n",
       "        vertical-align: top;\n",
       "    }\n",
       "\n",
       "    .dataframe thead th {\n",
       "        text-align: right;\n",
       "    }\n",
       "</style>\n",
       "<table border=\"1\" class=\"dataframe\">\n",
       "  <thead>\n",
       "    <tr style=\"text-align: right;\">\n",
       "      <th></th>\n",
       "      <th>age</th>\n",
       "      <th>gender</th>\n",
       "      <th>primary_diagnosis</th>\n",
       "      <th>num_procedures</th>\n",
       "      <th>days_in_hospital</th>\n",
       "      <th>comorbidity_score</th>\n",
       "      <th>discharge_to</th>\n",
       "      <th>readmitted</th>\n",
       "    </tr>\n",
       "  </thead>\n",
       "  <tbody>\n",
       "    <tr>\n",
       "      <th>0</th>\n",
       "      <td>51</td>\n",
       "      <td>1</td>\n",
       "      <td>2</td>\n",
       "      <td>1</td>\n",
       "      <td>2</td>\n",
       "      <td>1</td>\n",
       "      <td>1</td>\n",
       "      <td>0</td>\n",
       "    </tr>\n",
       "    <tr>\n",
       "      <th>1</th>\n",
       "      <td>14</td>\n",
       "      <td>0</td>\n",
       "      <td>0</td>\n",
       "      <td>2</td>\n",
       "      <td>13</td>\n",
       "      <td>2</td>\n",
       "      <td>2</td>\n",
       "      <td>0</td>\n",
       "    </tr>\n",
       "    <tr>\n",
       "      <th>2</th>\n",
       "      <td>71</td>\n",
       "      <td>1</td>\n",
       "      <td>1</td>\n",
       "      <td>1</td>\n",
       "      <td>7</td>\n",
       "      <td>1</td>\n",
       "      <td>0</td>\n",
       "      <td>0</td>\n",
       "    </tr>\n",
       "    <tr>\n",
       "      <th>3</th>\n",
       "      <td>60</td>\n",
       "      <td>1</td>\n",
       "      <td>0</td>\n",
       "      <td>9</td>\n",
       "      <td>2</td>\n",
       "      <td>2</td>\n",
       "      <td>3</td>\n",
       "      <td>0</td>\n",
       "    </tr>\n",
       "    <tr>\n",
       "      <th>4</th>\n",
       "      <td>20</td>\n",
       "      <td>1</td>\n",
       "      <td>1</td>\n",
       "      <td>6</td>\n",
       "      <td>4</td>\n",
       "      <td>4</td>\n",
       "      <td>2</td>\n",
       "      <td>0</td>\n",
       "    </tr>\n",
       "    <tr>\n",
       "      <th>...</th>\n",
       "      <td>...</td>\n",
       "      <td>...</td>\n",
       "      <td>...</td>\n",
       "      <td>...</td>\n",
       "      <td>...</td>\n",
       "      <td>...</td>\n",
       "      <td>...</td>\n",
       "      <td>...</td>\n",
       "    </tr>\n",
       "    <tr>\n",
       "      <th>65</th>\n",
       "      <td>71</td>\n",
       "      <td>1</td>\n",
       "      <td>0</td>\n",
       "      <td>5</td>\n",
       "      <td>14</td>\n",
       "      <td>2</td>\n",
       "      <td>3</td>\n",
       "      <td>0</td>\n",
       "    </tr>\n",
       "    <tr>\n",
       "      <th>66</th>\n",
       "      <td>61</td>\n",
       "      <td>1</td>\n",
       "      <td>0</td>\n",
       "      <td>2</td>\n",
       "      <td>9</td>\n",
       "      <td>0</td>\n",
       "      <td>0</td>\n",
       "      <td>1</td>\n",
       "    </tr>\n",
       "    <tr>\n",
       "      <th>67</th>\n",
       "      <td>39</td>\n",
       "      <td>1</td>\n",
       "      <td>2</td>\n",
       "      <td>0</td>\n",
       "      <td>4</td>\n",
       "      <td>0</td>\n",
       "      <td>0</td>\n",
       "      <td>0</td>\n",
       "    </tr>\n",
       "    <tr>\n",
       "      <th>68</th>\n",
       "      <td>52</td>\n",
       "      <td>1</td>\n",
       "      <td>4</td>\n",
       "      <td>7</td>\n",
       "      <td>7</td>\n",
       "      <td>4</td>\n",
       "      <td>2</td>\n",
       "      <td>0</td>\n",
       "    </tr>\n",
       "    <tr>\n",
       "      <th>69</th>\n",
       "      <td>23</td>\n",
       "      <td>1</td>\n",
       "      <td>1</td>\n",
       "      <td>3</td>\n",
       "      <td>5</td>\n",
       "      <td>3</td>\n",
       "      <td>2</td>\n",
       "      <td>0</td>\n",
       "    </tr>\n",
       "  </tbody>\n",
       "</table>\n",
       "<p>70 rows × 8 columns</p>\n",
       "</div>"
      ],
      "text/plain": [
       "    age  gender  primary_diagnosis  num_procedures  days_in_hospital  \\\n",
       "0    51       1                  2               1                 2   \n",
       "1    14       0                  0               2                13   \n",
       "2    71       1                  1               1                 7   \n",
       "3    60       1                  0               9                 2   \n",
       "4    20       1                  1               6                 4   \n",
       "..  ...     ...                ...             ...               ...   \n",
       "65   71       1                  0               5                14   \n",
       "66   61       1                  0               2                 9   \n",
       "67   39       1                  2               0                 4   \n",
       "68   52       1                  4               7                 7   \n",
       "69   23       1                  1               3                 5   \n",
       "\n",
       "    comorbidity_score  discharge_to  readmitted  \n",
       "0                   1             1           0  \n",
       "1                   2             2           0  \n",
       "2                   1             0           0  \n",
       "3                   2             3           0  \n",
       "4                   4             2           0  \n",
       "..                ...           ...         ...  \n",
       "65                  2             3           0  \n",
       "66                  0             0           1  \n",
       "67                  0             0           0  \n",
       "68                  4             2           0  \n",
       "69                  3             2           0  \n",
       "\n",
       "[70 rows x 8 columns]"
      ]
     },
     "execution_count": 84,
     "metadata": {},
     "output_type": "execute_result"
    }
   ],
   "source": [
    "df.head(70)"
   ]
  },
  {
   "cell_type": "code",
   "execution_count": 86,
   "id": "60d1ea65-6753-4f33-9e6e-90d15c1e5827",
   "metadata": {},
   "outputs": [],
   "source": [
    "# Define features and target variable\n",
    "X = df_encoded.drop(columns=['readmitted'])\n",
    "y = df_encoded['readmitted']\n",
    "\n",
    "# Handle class imbalance using Oversampling\n",
    "df_majority = df_encoded[df_encoded.readmitted == 0]\n",
    "df_minority = df_encoded[df_encoded.readmitted == 1]\n",
    "\n",
    "df_minority_upsampled = resample(df_minority, replace=True, n_samples=len(df_majority), random_state=42)\n",
    "df_balanced = pd.concat([df_majority, df_minority_upsampled]).sample(frac=1, random_state=42).reset_index(drop=True)\n",
    "\n"
   ]
  },
  {
   "cell_type": "code",
   "execution_count": 18,
   "id": "a75d54ed-9117-4a89-b76c-c0718238a750",
   "metadata": {},
   "outputs": [],
   "source": [
    "# Split data\n",
    "X_balanced = df_balanced.drop(columns=['readmitted'])\n",
    "y_balanced = df_balanced['readmitted']\n",
    "X_train, X_test, y_train, y_test = train_test_split(X_balanced, y_balanced, test_size=0.2, random_state=42)\n",
    "\n",
    "# Standardization\n",
    "scaler = StandardScaler()\n",
    "X_train = scaler.fit_transform(X_train)\n",
    "X_test = scaler.transform(X_test)\n"
   ]
  },
  {
   "cell_type": "code",
   "execution_count": 32,
   "id": "e1cdde5d-8c8f-4987-bbee-8a56ee402f14",
   "metadata": {},
   "outputs": [],
   "source": [
    "# # Feature Scaling\n",
    "# print(\"\\n⚖️ Feature Scaling: Standardization\")\n",
    "\n",
    "# # Identify numerical columns for scaling\n",
    "# numerical_columns = df_encoded.select_dtypes(include=np.number).columns.tolist()\n",
    "# numerical_columns.remove('readmitted')  # Exclude the target variable\n",
    "\n",
    "# # Initialize the scaler\n",
    "# scaler = StandardScaler()\n",
    "\n",
    "# # Apply scaling\n",
    "# X_balanced_scaled = df_balanced.copy()\n",
    "# X_balanced_scaled[numerical_columns] = scaler.fit_transform(df_balanced[numerical_columns])\n",
    "\n",
    "# # Split data after scaling\n",
    "# X_train, X_test, y_train, y_test = train_test_split(\n",
    "#     X_balanced_scaled.drop(columns=['readmitted']), \n",
    "#     X_balanced_scaled['readmitted'], \n",
    "#     test_size=0.2, \n",
    "#     random_state=42\n",
    "# )\n",
    "\n",
    "# print(\"✅ Feature Scaling Completed.\")\n"
   ]
  },
  {
   "cell_type": "code",
   "execution_count": 20,
   "id": "ae3ba30e-4df6-47b2-bddf-81faf37970eb",
   "metadata": {},
   "outputs": [
    {
     "name": "stdout",
     "output_type": "stream",
     "text": [
      "\n",
      "✅ Feature Scaling Completed and Scaler Saved!\n"
     ]
    }
   ],
   "source": [
    "# ------------------------------\n",
    "# Feature Scaling\n",
    "# ------------------------------\n",
    "\n",
    "from sklearn.preprocessing import StandardScaler\n",
    "import joblib\n",
    "\n",
    "# Initialize StandardScaler\n",
    "sc = StandardScaler()\n",
    "\n",
    "# Apply scaling to training and test sets\n",
    "X_train = sc.fit_transform(X_train)\n",
    "X_test = sc.transform(X_test)\n",
    "\n",
    "# Save the scaler for future use (e.g., in deployment)\n",
    "joblib.dump(sc, 'StandardScaler_many.pkl')\n",
    "\n",
    "print(\"\\n✅ Feature Scaling Completed and Scaler Saved!\")\n"
   ]
  },
  {
   "cell_type": "code",
   "execution_count": null,
   "id": "fb8efe11-3e86-47c3-b24b-30c63a55d241",
   "metadata": {},
   "outputs": [],
   "source": []
  },
  {
   "cell_type": "code",
   "execution_count": 22,
   "id": "c1d0f960-4da0-4362-91bf-b26963c5b741",
   "metadata": {},
   "outputs": [
    {
     "name": "stdout",
     "output_type": "stream",
     "text": [
      "\n",
      "Logistic Regression:\n",
      "               precision    recall  f1-score   support\n",
      "\n",
      "           0       0.52      0.48      0.50       822\n",
      "           1       0.51      0.55      0.53       802\n",
      "\n",
      "    accuracy                           0.51      1624\n",
      "   macro avg       0.52      0.52      0.51      1624\n",
      "weighted avg       0.52      0.51      0.51      1624\n",
      "\n",
      "Logistic Regression -> Accuracy: 0.5148, AUC Score: 0.5283\n"
     ]
    }
   ],
   "source": [
    "# Train Logistic Regression next\n",
    "lr_model = LogisticRegression()\n",
    "lr_model.fit(X_train, y_train)\n",
    "y_pred_lr = lr_model.predict(X_test)\n",
    "accuracy_lr = accuracy_score(y_test, y_pred_lr)\n",
    "auc_score_lr = roc_auc_score(y_test, lr_model.predict_proba(X_test)[:,1])\n",
    "print(f\"\\nLogistic Regression:\\n\", classification_report(y_test, y_pred_lr))\n",
    "print(f\"Logistic Regression -> Accuracy: {accuracy_lr:.4f}, AUC Score: {auc_score_lr:.4f}\")\n"
   ]
  },
  {
   "cell_type": "code",
   "execution_count": 47,
   "id": "9ba04902-5723-4e64-8ecc-ef46025a28a4",
   "metadata": {},
   "outputs": [
    {
     "name": "stdout",
     "output_type": "stream",
     "text": [
      "\n",
      "XGBoost:\n",
      "               precision    recall  f1-score   support\n",
      "\n",
      "           0       0.91      0.79      0.85       791\n",
      "           1       0.82      0.93      0.87       832\n",
      "\n",
      "    accuracy                           0.86      1623\n",
      "   macro avg       0.87      0.86      0.86      1623\n",
      "weighted avg       0.87      0.86      0.86      1623\n",
      "\n",
      "XGBoost -> Accuracy: 0.8601, AUC Score: 0.9267\n"
     ]
    },
    {
     "name": "stderr",
     "output_type": "stream",
     "text": [
      "C:\\Users\\mohaa\\anaconda3\\Lib\\site-packages\\xgboost\\core.py:158: UserWarning: [11:01:42] WARNING: C:\\buildkite-agent\\builds\\buildkite-windows-cpu-autoscaling-group-i-08cbc0333d8d4aae1-1\\xgboost\\xgboost-ci-windows\\src\\learner.cc:740: \n",
      "Parameters: { \"use_label_encoder\" } are not used.\n",
      "\n",
      "  warnings.warn(smsg, UserWarning)\n"
     ]
    }
   ],
   "source": [
    "# Train XGBoost\n",
    "xgb_model = xgb.XGBClassifier(use_label_encoder=False, eval_metric='logloss')\n",
    "xgb_model.fit(X_train, y_train)\n",
    "y_pred_xgb = xgb_model.predict(X_test)\n",
    "accuracy_xgb = accuracy_score(y_test, y_pred_xgb)\n",
    "auc_score_xgb = roc_auc_score(y_test, xgb_model.predict_proba(X_test)[:,1])\n",
    "print(f\"\\nXGBoost:\\n\", classification_report(y_test, y_pred_xgb))\n",
    "print(f\"XGBoost -> Accuracy: {accuracy_xgb:.4f}, AUC Score: {auc_score_xgb:.4f}\")\n"
   ]
  },
  {
   "cell_type": "code",
   "execution_count": 49,
   "id": "18fccfe9-09e3-4996-80d6-df74e0c63f23",
   "metadata": {},
   "outputs": [
    {
     "name": "stderr",
     "output_type": "stream",
     "text": [
      "C:\\Users\\mohaa\\anaconda3\\Lib\\site-packages\\sklearn\\utils\\deprecation.py:151: FutureWarning: 'force_all_finite' was renamed to 'ensure_all_finite' in 1.6 and will be removed in 1.8.\n",
      "  warnings.warn(\n"
     ]
    },
    {
     "name": "stdout",
     "output_type": "stream",
     "text": [
      "[LightGBM] [Info] Number of positive: 3224, number of negative: 3265\n",
      "[LightGBM] [Info] Auto-choosing row-wise multi-threading, the overhead of testing was 0.000695 seconds.\n",
      "You can set `force_row_wise=true` to remove the overhead.\n",
      "And if memory is not enough, you can set `force_col_wise=true`.\n",
      "[LightGBM] [Info] Total Bins 119\n",
      "[LightGBM] [Info] Number of data points in the train set: 6489, number of used features: 7\n",
      "[LightGBM] [Info] [binary:BoostFromScore]: pavg=0.496841 -> initscore=-0.012637\n",
      "[LightGBM] [Info] Start training from score -0.012637\n",
      "\n",
      "LightGBM:\n",
      "               precision    recall  f1-score   support\n",
      "\n",
      "           0       0.79      0.73      0.76       791\n",
      "           1       0.76      0.81      0.79       832\n",
      "\n",
      "    accuracy                           0.77      1623\n",
      "   macro avg       0.78      0.77      0.77      1623\n",
      "weighted avg       0.77      0.77      0.77      1623\n",
      "\n",
      "LightGBM -> Accuracy: 0.7739, AUC Score: 0.8484\n"
     ]
    },
    {
     "name": "stderr",
     "output_type": "stream",
     "text": [
      "C:\\Users\\mohaa\\anaconda3\\Lib\\site-packages\\sklearn\\utils\\deprecation.py:151: FutureWarning: 'force_all_finite' was renamed to 'ensure_all_finite' in 1.6 and will be removed in 1.8.\n",
      "  warnings.warn(\n",
      "C:\\Users\\mohaa\\anaconda3\\Lib\\site-packages\\sklearn\\utils\\deprecation.py:151: FutureWarning: 'force_all_finite' was renamed to 'ensure_all_finite' in 1.6 and will be removed in 1.8.\n",
      "  warnings.warn(\n"
     ]
    }
   ],
   "source": [
    "# Train LightGBM\n",
    "lgb_model = lgb.LGBMClassifier()\n",
    "lgb_model.fit(X_train, y_train)\n",
    "y_pred_lgb = lgb_model.predict(X_test)\n",
    "accuracy_lgb = accuracy_score(y_test, y_pred_lgb)\n",
    "auc_score_lgb = roc_auc_score(y_test, lgb_model.predict_proba(X_test)[:,1])\n",
    "print(f\"\\nLightGBM:\\n\", classification_report(y_test, y_pred_lgb))\n",
    "print(f\"LightGBM -> Accuracy: {accuracy_lgb:.4f}, AUC Score: {auc_score_lgb:.4f}\")\n"
   ]
  },
  {
   "cell_type": "code",
   "execution_count": 51,
   "id": "ccaf2118-bf25-47bb-801c-88b404070dfd",
   "metadata": {},
   "outputs": [
    {
     "name": "stderr",
     "output_type": "stream",
     "text": [
      "C:\\Users\\mohaa\\anaconda3\\Lib\\site-packages\\keras\\src\\layers\\core\\dense.py:87: UserWarning: Do not pass an `input_shape`/`input_dim` argument to a layer. When using Sequential models, prefer using an `Input(shape)` object as the first layer in the model instead.\n",
      "  super().__init__(activity_regularizer=activity_regularizer, **kwargs)\n"
     ]
    },
    {
     "name": "stdout",
     "output_type": "stream",
     "text": [
      "Epoch 1/20\n",
      "\u001b[1m406/406\u001b[0m \u001b[32m━━━━━━━━━━━━━━━━━━━━\u001b[0m\u001b[37m\u001b[0m \u001b[1m9s\u001b[0m 10ms/step - accuracy: 0.5008 - loss: 0.7139 - val_accuracy: 0.5059 - val_loss: 0.6937\n",
      "Epoch 2/20\n",
      "\u001b[1m406/406\u001b[0m \u001b[32m━━━━━━━━━━━━━━━━━━━━\u001b[0m\u001b[37m\u001b[0m \u001b[1m4s\u001b[0m 6ms/step - accuracy: 0.5409 - loss: 0.6884 - val_accuracy: 0.5003 - val_loss: 0.6914\n",
      "Epoch 3/20\n",
      "\u001b[1m406/406\u001b[0m \u001b[32m━━━━━━━━━━━━━━━━━━━━\u001b[0m\u001b[37m\u001b[0m \u001b[1m5s\u001b[0m 6ms/step - accuracy: 0.5320 - loss: 0.6894 - val_accuracy: 0.5089 - val_loss: 0.6944\n",
      "Epoch 4/20\n",
      "\u001b[1m406/406\u001b[0m \u001b[32m━━━━━━━━━━━━━━━━━━━━\u001b[0m\u001b[37m\u001b[0m \u001b[1m3s\u001b[0m 6ms/step - accuracy: 0.5453 - loss: 0.6869 - val_accuracy: 0.5305 - val_loss: 0.6889\n",
      "Epoch 5/20\n",
      "\u001b[1m406/406\u001b[0m \u001b[32m━━━━━━━━━━━━━━━━━━━━\u001b[0m\u001b[37m\u001b[0m \u001b[1m3s\u001b[0m 6ms/step - accuracy: 0.5531 - loss: 0.6864 - val_accuracy: 0.5114 - val_loss: 0.6891\n",
      "Epoch 6/20\n",
      "\u001b[1m406/406\u001b[0m \u001b[32m━━━━━━━━━━━━━━━━━━━━\u001b[0m\u001b[37m\u001b[0m \u001b[1m3s\u001b[0m 7ms/step - accuracy: 0.5668 - loss: 0.6826 - val_accuracy: 0.5330 - val_loss: 0.6883\n",
      "Epoch 7/20\n",
      "\u001b[1m406/406\u001b[0m \u001b[32m━━━━━━━━━━━━━━━━━━━━\u001b[0m\u001b[37m\u001b[0m \u001b[1m5s\u001b[0m 7ms/step - accuracy: 0.5659 - loss: 0.6818 - val_accuracy: 0.5484 - val_loss: 0.6866\n",
      "Epoch 8/20\n",
      "\u001b[1m406/406\u001b[0m \u001b[32m━━━━━━━━━━━━━━━━━━━━\u001b[0m\u001b[37m\u001b[0m \u001b[1m5s\u001b[0m 7ms/step - accuracy: 0.5656 - loss: 0.6820 - val_accuracy: 0.5465 - val_loss: 0.6868\n",
      "Epoch 9/20\n",
      "\u001b[1m406/406\u001b[0m \u001b[32m━━━━━━━━━━━━━━━━━━━━\u001b[0m\u001b[37m\u001b[0m \u001b[1m5s\u001b[0m 6ms/step - accuracy: 0.5732 - loss: 0.6795 - val_accuracy: 0.5502 - val_loss: 0.6858\n",
      "Epoch 10/20\n",
      "\u001b[1m406/406\u001b[0m \u001b[32m━━━━━━━━━━━━━━━━━━━━\u001b[0m\u001b[37m\u001b[0m \u001b[1m5s\u001b[0m 7ms/step - accuracy: 0.5697 - loss: 0.6790 - val_accuracy: 0.5453 - val_loss: 0.6853\n",
      "Epoch 11/20\n",
      "\u001b[1m406/406\u001b[0m \u001b[32m━━━━━━━━━━━━━━━━━━━━\u001b[0m\u001b[37m\u001b[0m \u001b[1m5s\u001b[0m 7ms/step - accuracy: 0.5858 - loss: 0.6768 - val_accuracy: 0.5385 - val_loss: 0.6860\n",
      "Epoch 12/20\n",
      "\u001b[1m406/406\u001b[0m \u001b[32m━━━━━━━━━━━━━━━━━━━━\u001b[0m\u001b[37m\u001b[0m \u001b[1m3s\u001b[0m 7ms/step - accuracy: 0.5739 - loss: 0.6779 - val_accuracy: 0.5644 - val_loss: 0.6834\n",
      "Epoch 13/20\n",
      "\u001b[1m406/406\u001b[0m \u001b[32m━━━━━━━━━━━━━━━━━━━━\u001b[0m\u001b[37m\u001b[0m \u001b[1m6s\u001b[0m 9ms/step - accuracy: 0.5894 - loss: 0.6755 - val_accuracy: 0.5484 - val_loss: 0.6840\n",
      "Epoch 14/20\n",
      "\u001b[1m406/406\u001b[0m \u001b[32m━━━━━━━━━━━━━━━━━━━━\u001b[0m\u001b[37m\u001b[0m \u001b[1m5s\u001b[0m 7ms/step - accuracy: 0.5838 - loss: 0.6714 - val_accuracy: 0.5514 - val_loss: 0.6816\n",
      "Epoch 15/20\n",
      "\u001b[1m406/406\u001b[0m \u001b[32m━━━━━━━━━━━━━━━━━━━━\u001b[0m\u001b[37m\u001b[0m \u001b[1m5s\u001b[0m 7ms/step - accuracy: 0.5914 - loss: 0.6709 - val_accuracy: 0.5638 - val_loss: 0.6825\n",
      "Epoch 16/20\n",
      "\u001b[1m406/406\u001b[0m \u001b[32m━━━━━━━━━━━━━━━━━━━━\u001b[0m\u001b[37m\u001b[0m \u001b[1m5s\u001b[0m 6ms/step - accuracy: 0.6054 - loss: 0.6685 - val_accuracy: 0.5632 - val_loss: 0.6830\n",
      "Epoch 17/20\n",
      "\u001b[1m406/406\u001b[0m \u001b[32m━━━━━━━━━━━━━━━━━━━━\u001b[0m\u001b[37m\u001b[0m \u001b[1m3s\u001b[0m 7ms/step - accuracy: 0.5960 - loss: 0.6698 - val_accuracy: 0.5662 - val_loss: 0.6834\n",
      "Epoch 18/20\n",
      "\u001b[1m406/406\u001b[0m \u001b[32m━━━━━━━━━━━━━━━━━━━━\u001b[0m\u001b[37m\u001b[0m \u001b[1m5s\u001b[0m 6ms/step - accuracy: 0.5809 - loss: 0.6706 - val_accuracy: 0.5588 - val_loss: 0.6821\n",
      "Epoch 19/20\n",
      "\u001b[1m406/406\u001b[0m \u001b[32m━━━━━━━━━━━━━━━━━━━━\u001b[0m\u001b[37m\u001b[0m \u001b[1m3s\u001b[0m 7ms/step - accuracy: 0.5956 - loss: 0.6657 - val_accuracy: 0.5730 - val_loss: 0.6813\n",
      "Epoch 20/20\n",
      "\u001b[1m406/406\u001b[0m \u001b[32m━━━━━━━━━━━━━━━━━━━━\u001b[0m\u001b[37m\u001b[0m \u001b[1m5s\u001b[0m 7ms/step - accuracy: 0.6041 - loss: 0.6644 - val_accuracy: 0.5712 - val_loss: 0.6808\n"
     ]
    },
    {
     "data": {
      "text/plain": [
       "<keras.src.callbacks.history.History at 0x2a287050e00>"
      ]
     },
     "execution_count": 51,
     "metadata": {},
     "output_type": "execute_result"
    }
   ],
   "source": [
    "# Train Neural Network\n",
    "nn_model = keras.Sequential([\n",
    "    keras.layers.Dense(16, activation='relu', input_shape=(X_train.shape[1],)),\n",
    "    keras.layers.Dense(8, activation='relu'),\n",
    "    keras.layers.Dense(1, activation='sigmoid')\n",
    "])\n",
    "\n",
    "nn_model.compile(optimizer='adam', loss='binary_crossentropy', metrics=['accuracy'])\n",
    "nn_model.fit(X_train, y_train, epochs=20, batch_size=16, verbose=1, validation_data=(X_test, y_test))\n"
   ]
  },
  {
   "cell_type": "code",
   "execution_count": 53,
   "id": "c2432b55-0a1f-4c01-a361-98c6735a40de",
   "metadata": {},
   "outputs": [
    {
     "name": "stdout",
     "output_type": "stream",
     "text": [
      "\n",
      "Random Forest:\n",
      "               precision    recall  f1-score   support\n",
      "\n",
      "           0       0.96      0.93      0.95       791\n",
      "           1       0.94      0.96      0.95       832\n",
      "\n",
      "    accuracy                           0.95      1623\n",
      "   macro avg       0.95      0.95      0.95      1623\n",
      "weighted avg       0.95      0.95      0.95      1623\n",
      "\n",
      "Random Forest -> Accuracy: 0.9476, AUC Score: 0.9804\n"
     ]
    }
   ],
   "source": [
    "# Train Random Forest first\n",
    "rf_model = RandomForestClassifier(n_estimators=100, random_state=42)\n",
    "rf_model.fit(X_train, y_train)\n",
    "y_pred_rf = rf_model.predict(X_test)\n",
    "accuracy_rf = accuracy_score(y_test, y_pred_rf)\n",
    "auc_score_rf = roc_auc_score(y_test, rf_model.predict_proba(X_test)[:,1])\n",
    "print(f\"\\nRandom Forest:\\n\", classification_report(y_test, y_pred_rf))\n",
    "print(f\"Random Forest -> Accuracy: {accuracy_rf:.4f}, AUC Score: {auc_score_rf:.4f}\")\n"
   ]
  },
  {
   "cell_type": "code",
   "execution_count": 76,
   "id": "952b21e9-340e-4b22-ac5e-e2ffda85f35c",
   "metadata": {},
   "outputs": [],
   "source": [
    "# # Print all model results\n",
    "# print(\"\\nFinal Model Performance:\")\n",
    "# for model, scores in results.items():\n",
    "#     print(f\"{model} -> Accuracy: {scores['Accuracy']:.4f}, AUC Score: {scores.get('AUC Score', 'N/A')}\")\n"
   ]
  },
  {
   "cell_type": "code",
   "execution_count": 78,
   "id": "ec658a77-8590-4279-9af3-0f51325f4fa1",
   "metadata": {},
   "outputs": [
    {
     "name": "stdout",
     "output_type": "stream",
     "text": [
      "Fitting 5 folds for each of 81 candidates, totalling 405 fits\n",
      "Best Hyperparameters: {'max_depth': None, 'min_samples_leaf': 1, 'min_samples_split': 2, 'n_estimators': 300}\n",
      "Best Accuracy: 0.9288039365467068\n"
     ]
    }
   ],
   "source": [
    "from sklearn.model_selection import GridSearchCV\n",
    "from sklearn.ensemble import RandomForestClassifier\n",
    "\n",
    "# Define parameter grid for Random Forest\n",
    "param_grid = {\n",
    "    'n_estimators': [100, 200, 300],\n",
    "    'max_depth': [10, 20, None],\n",
    "    'min_samples_split': [2, 5, 10],\n",
    "    'min_samples_leaf': [1, 2, 4]\n",
    "}\n",
    "\n",
    "# Initialize Random Forest model\n",
    "rf_model = RandomForestClassifier(random_state=42)\n",
    "\n",
    "# Perform Grid Search CV\n",
    "grid_search = GridSearchCV(rf_model, param_grid, cv=5, scoring='accuracy', n_jobs=-1, verbose=2)\n",
    "grid_search.fit(X_train, y_train)\n",
    "\n",
    "# Get the best parameters and accuracy\n",
    "best_params = grid_search.best_params_\n",
    "best_accuracy = grid_search.best_score_\n",
    "\n",
    "print(\"Best Hyperparameters:\", best_params)\n",
    "print(\"Best Accuracy:\", best_accuracy)\n"
   ]
  },
  {
   "cell_type": "code",
   "execution_count": null,
   "id": "be2169a1-f916-45ed-9966-b1aa4858b04d",
   "metadata": {},
   "outputs": [],
   "source": []
  },
  {
   "cell_type": "code",
   "execution_count": null,
   "id": "f91b237d-94a0-4c9a-9248-0e7ade491628",
   "metadata": {},
   "outputs": [],
   "source": []
  },
  {
   "cell_type": "code",
   "execution_count": 80,
   "id": "d5c9fd88-7fdf-4b5f-8abd-ae2cce708d7a",
   "metadata": {},
   "outputs": [
    {
     "name": "stdout",
     "output_type": "stream",
     "text": [
      "Final Test Accuracy: 0.9489\n",
      "Final Test AUC Score: 0.9800\n"
     ]
    }
   ],
   "source": [
    "# Train the final Random Forest model with the best hyperparameters\n",
    "best_rf = RandomForestClassifier(\n",
    "    max_depth=None, \n",
    "    min_samples_leaf=1, \n",
    "    min_samples_split=2, \n",
    "    n_estimators=300, \n",
    "    random_state=42\n",
    ")\n",
    "\n",
    "best_rf.fit(X_train, y_train)\n",
    "\n",
    "# Evaluate on the test set\n",
    "y_pred_final = best_rf.predict(X_test)\n",
    "final_accuracy = accuracy_score(y_test, y_pred_final)\n",
    "final_auc = roc_auc_score(y_test, best_rf.predict_proba(X_test)[:,1])\n",
    "\n",
    "print(f\"Final Test Accuracy: {final_accuracy:.4f}\")\n",
    "print(f\"Final Test AUC Score: {final_auc:.4f}\")\n"
   ]
  },
  {
   "cell_type": "code",
   "execution_count": 24,
   "id": "aaeb17d7-89ba-4c2e-a105-f4f719dc3f4f",
   "metadata": {},
   "outputs": [
    {
     "name": "stdout",
     "output_type": "stream",
     "text": [
      "Feature Names in Training Data: ['age' 'gender' 'primary_diagnosis' 'discharge_to' 'num_procedures'\n",
      " 'days_in_hospital' 'comorbidity_score']\n",
      "Predicted Readmission (0 = No, 1 = Yes): 1\n",
      "Readmission Probability: 0.59\n"
     ]
    }
   ],
   "source": [
    "# Load the saved encoders, scaler, and model\n",
    "import numpy as np\n",
    "import pandas as pd\n",
    "import joblib  # Ensure you have this installed\n",
    "\n",
    "# Load trained model (replace 'model.pkl' with your actual model filename)\n",
    "model = joblib.load(\"model.pkl\")\n",
    "\n",
    "# Load training data (if needed)\n",
    "# X = pd.read_csv(\"training_data.csv\")  # Uncomment if necessary\n",
    "\n",
    "# Check feature names used in training\n",
    "print(\"Feature Names in Training Data:\", model.feature_names_in_)\n",
    "\n",
    "# Define a new patient sample matching feature names\n",
    "new_patient = {\n",
    "    'age': 62,  \n",
    "    'gender': 1,  \n",
    "    'primary_diagnosis': 0,  \n",
    "    'discharge_to':2,  \n",
    "    'num_procedures':9,  \n",
    "    'days_in_hospital': 6,  \n",
    "    'comorbidity_score': 2,  # Placeholder value (ensure it's realistic)\n",
    "}\n",
    "\n",
    "# Convert to DataFrame\n",
    "new_patient_df = pd.DataFrame([new_patient])\n",
    "\n",
    "# Ensure column order matches training data\n",
    "new_patient_df = new_patient_df.reindex(columns=model.feature_names_in_, fill_value=0)\n",
    "\n",
    "# Make prediction\n",
    "predicted_readmission = model.predict(new_patient_df)\n",
    "predicted_probability = model.predict_proba(new_patient_df)[:, 1]\n",
    "\n",
    "# Output results\n",
    "print(\"Predicted Readmission (0 = No, 1 = Yes):\", predicted_readmission[0])\n",
    "print(\"Readmission Probability:\", predicted_probability[0])\n"
   ]
  },
  {
   "cell_type": "markdown",
   "id": "86c752af-f088-4f9c-9f1b-0166c2fe9818",
   "metadata": {},
   "source": [
    "# import joblib\n",
    "\n",
    "# Save trained model\n",
    "joblib.dump(best_rf, 'random_forest_model.pkl')\n",
    "\n",
    "# Save feature scaler \n",
    "joblib.dump(scaler, 'scaler.pkl')\n",
    "\n",
    "# Save label encoders\n",
    "joblib.dump(label_encoders, 'label_encoders.pkl')\n"
   ]
  }
 ],
 "metadata": {
  "kernelspec": {
   "display_name": "Python 3 (ipykernel)",
   "language": "python",
   "name": "python3"
  },
  "language_info": {
   "codemirror_mode": {
    "name": "ipython",
    "version": 3
   },
   "file_extension": ".py",
   "mimetype": "text/x-python",
   "name": "python",
   "nbconvert_exporter": "python",
   "pygments_lexer": "ipython3",
   "version": "3.12.4"
  }
 },
 "nbformat": 4,
 "nbformat_minor": 5
}
